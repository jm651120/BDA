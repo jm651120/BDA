{
 "cells": [
  {
   "cell_type": "code",
   "execution_count": 0,
   "metadata": {
    "application/vnd.databricks.v1+cell": {
     "cellMetadata": {
      "byteLimit": 2048000,
      "rowLimit": 10000
     },
     "inputWidgets": {},
     "nuid": "24a40599-24f7-4282-bb19-342dca17ea0f",
     "showTitle": false,
     "tableResultSettingsMap": {},
     "title": ""
    }
   },
   "outputs": [
    {
     "output_type": "stream",
     "name": "stdout",
     "output_type": "stream",
     "text": [
      "\n Evaluation for Logistic Regression:\nConfusion Matrix:\n[[329234 403185]\n [ 10726  16688]]\n\nClassification Report:\nClass      Precision    Recall  F1-Score   Support\n0             0.9684    0.4495    0.6140    732419\n1             0.0397    0.6087    0.0746     27414\n\nAccuracy                          0.4553    759833\nMacro Avg     0.5041    0.5291    0.3443    759833\nWeighted Avg    0.9349    0.4553    0.5946    759833\n\n Evaluation for Random Forest:\nConfusion Matrix:\n[[512154 220265]\n [ 17187  10227]]\n\nClassification Report:\nClass      Precision    Recall  F1-Score   Support\n0             0.9675    0.6993    0.8118    732419\n1             0.0444    0.3731    0.0793     27414\n\nAccuracy                          0.6875    759833\nMacro Avg     0.5060    0.5362    0.4456    759833\nWeighted Avg    0.9342    0.6875    0.7854    759833\n\n Evaluation for GBT:\nConfusion Matrix:\n[[732406     13]\n [ 27414      0]]\n\nClassification Report:\nClass      Precision    Recall  F1-Score   Support\n0             0.9639    1.0000    0.9816    732419\n1             0.0000    0.0000    0.0000     27414\n\nAccuracy                          0.9639    759833\nMacro Avg     0.4820    0.5000    0.4908    759833\nWeighted Avg    0.9291    0.9639    0.9462    759833\n\n Final model comparison (sorted by F1-score for class 1):\nRandom Forest        ➤  F1-score (class 1): 0.0793\nLogistic Regression  ➤  F1-score (class 1): 0.0746\nGBT                  ➤  F1-score (class 1): 0.0000\n"
     ]
    }
   ],
   "source": [
    "from pyspark.ml import PipelineModel\n",
    "from pyspark.ml.evaluation import MulticlassClassificationEvaluator\n",
    "from pyspark.mllib.evaluation import MulticlassMetrics\n",
    "from pyspark.ml.classification import (\n",
    "    LogisticRegressionModel, \n",
    "    RandomForestClassificationModel, \n",
    "    GBTClassificationModel\n",
    ")\n",
    "from pyspark.sql.functions import col\n",
    "import numpy as np\n",
    "import warnings\n",
    "warnings.filterwarnings(\"ignore\", category=FutureWarning)\n",
    "\n",
    "# --- Load Slicer and Test Data ---\n",
    "slicer_model = PipelineModel.load(\"/FileStore/models/slicer_top10\")\n",
    "test_ready = spark.read.format(\"delta\").load(\"/FileStore/data/test_ready\")\n",
    "test_topk = slicer_model.transform(test_ready)\n",
    "\n",
    "# --- Evaluator Setup ---\n",
    "evaluator = MulticlassClassificationEvaluator(\n",
    "    labelCol=\"label\", predictionCol=\"prediction\", metricName=\"f1\"\n",
    ")\n",
    "\n",
    "# --- Model Paths & Classes ---\n",
    "model_paths = {\n",
    "    \"Logistic Regression\": \"/FileStore/models/lr_top10_weighted_model\",\n",
    "    \"Random Forest\": \"/FileStore/models/rf_top10_weighted_model_40pct\",\n",
    "    \"GBT\": \"/FileStore/models/gbt_top10_no_weights\"\n",
    "}\n",
    "\n",
    "model_classes = {\n",
    "    \"Logistic Regression\": LogisticRegressionModel,\n",
    "    \"Random Forest\": RandomForestClassificationModel,\n",
    "    \"GBT\": GBTClassificationModel\n",
    "}\n",
    "\n",
    "# --- Evaluation Helper ---\n",
    "def evaluate_spark_model(model_name, model, df):\n",
    "    preds = model.transform(df)\n",
    "    f1 = evaluator.evaluate(preds)\n",
    "    \n",
    "    preds_rdd = preds.select(\"prediction\", \"label\").rdd.map(lambda r: (float(r[0]), float(r[1])))\n",
    "    metrics = MulticlassMetrics(preds_rdd)\n",
    "\n",
    "    report = {}\n",
    "    total_support = 0\n",
    "    weighted_sum = {\"precision\": 0, \"recall\": 0, \"f1\": 0}\n",
    "    labels = [0.0, 1.0]\n",
    "\n",
    "    for label in labels:\n",
    "        precision = metrics.precision(label)\n",
    "        recall = metrics.recall(label)\n",
    "        f1_score = metrics.fMeasure(label)\n",
    "        support = preds_rdd.filter(lambda r: r[1] == label).count()\n",
    "        report[label] = {\"precision\": precision, \"recall\": recall, \"f1-score\": f1_score, \"support\": support}\n",
    "        total_support += support\n",
    "        weighted_sum[\"precision\"] += precision * support\n",
    "        weighted_sum[\"recall\"] += recall * support\n",
    "        weighted_sum[\"f1\"] += f1_score * support\n",
    "\n",
    "    macro_avg = {\n",
    "        \"precision\": np.mean([metrics.precision(l) for l in labels]),\n",
    "        \"recall\": np.mean([metrics.recall(l) for l in labels]),\n",
    "        \"f1-score\": np.mean([metrics.fMeasure(l) for l in labels]),\n",
    "        \"support\": total_support\n",
    "    }\n",
    "\n",
    "    print(f\"\\n Evaluation for {model_name}:\")\n",
    "    print(\"Confusion Matrix:\")\n",
    "    print(metrics.confusionMatrix().toArray().astype(int))\n",
    "\n",
    "    print(\"\\nClassification Report:\")\n",
    "    print(f\"{'Class':<10}{'Precision':>10}{'Recall':>10}{'F1-Score':>10}{'Support':>10}\")\n",
    "    for label in labels:\n",
    "        vals = report[label]\n",
    "        print(f\"{str(int(label)):<10}{vals['precision']:10.4f}{vals['recall']:10.4f}{vals['f1-score']:10.4f}{vals['support']:10d}\")\n",
    "    \n",
    "    print(f\"\\n{'Accuracy':<10}{'':>10}{'':>10}{metrics.accuracy:10.4f}{total_support:10d}\")\n",
    "    print(f\"{'Macro Avg':<10}{macro_avg['precision']:10.4f}{macro_avg['recall']:10.4f}{macro_avg['f1-score']:10.4f}{macro_avg['support']:10d}\")\n",
    "    print(f\"{'Weighted Avg':<10}{(weighted_sum['precision']/total_support):10.4f}{(weighted_sum['recall']/total_support):10.4f}{(weighted_sum['f1']/total_support):10.4f}{total_support:10d}\")\n",
    "\n",
    "    return report[1.0]['f1-score']\n",
    "\n",
    "# --- Run Evaluation for Spark Models ---\n",
    "f1_scores = []\n",
    "\n",
    "for name, path in model_paths.items():\n",
    "    model = model_classes[name].load(path)\n",
    "    f1_class1 = evaluate_spark_model(name, model, test_topk)\n",
    "    f1_scores.append((name, f1_class1))\n",
    "\n",
    "# --- Final Ranking ---\n",
    "f1_scores.sort(key=lambda x: x[1], reverse=True)\n",
    "\n",
    "print(\"\\n Final model comparison (sorted by F1-score for class 1):\")\n",
    "for name, score in f1_scores:\n",
    "    print(f\"{name:20} ➤  F1-score (class 1): {score:.4f}\")"
   ]
  }
 ],
 "metadata": {
  "application/vnd.databricks.v1+notebook": {
   "computePreferences": null,
   "dashboards": [],
   "environmentMetadata": {
    "base_environment": "",
    "environment_version": "1"
   },
   "inputWidgetPreferences": null,
   "language": "python",
   "notebookMetadata": {
    "pythonIndentUnit": 4
   },
   "notebookName": "Notebook4",
   "widgets": {}
  }
 },
 "nbformat": 4,
 "nbformat_minor": 0
}